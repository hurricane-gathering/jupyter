{
 "cells": [
  {
   "cell_type": "markdown",
   "id": "c4bfbd4c-eb5b-4fbd-b9a5-ca416a885080",
   "metadata": {},
   "source": [
    "## 2.3. 线性代数\n",
    "在介绍完如何存储和操作数据后，接下来将简要地回顾一下部分基本线性代数内容。 这些内容有助于读者了解和实现本书中介绍的大多数模型。 本节将介绍线性代数中的基本数学对象、算术和运算，并用数学符号和相应的代码实现来表示它们。"
   ]
  },
  {
   "cell_type": "markdown",
   "id": "0bac8de7-8341-4a4f-8df2-3472a420c0e9",
   "metadata": {},
   "source": [
    "### 2.3.1. 标量\n",
    "如果你曾经在餐厅支付餐费，那么应该已经知道一些基本的线性代数，比如在数字间相加或相乘。 例如，北京的温度为$52^{\\circ}F$（华氏度，除摄氏度外的另一种温度计量单位）。 严格来说，仅包含一个数值被称为标量（scalar）。 如果要将此华氏度值转换为更常用的摄氏度， 则可以计算表达式$c=\\frac{5}{9}(f-32)$，并将$f$赋为52。 在此等式中，每一项（5、9和32）都是标量值。 符号$c$和$f$称为变量（variable），它们表示未知的标量值。\n",
    "\n",
    "其中标量变量由普通小写字母表示（例如，$x$、$y$和$z$）。用$\\mathbb{R}$表示所有（连续）实数标量的空间，之后将严格定义空间（space）是什么， 但现在只要记住表达式$x\\in\\mathbb{R}$是表示$x$是一个实值标量的正式形式。 符号$\\in$称为“属于”，它表示“是集合中的成员”。 例如$x, y \\in \\{0,1\\}$可以用来表明$x$和$y$是值只能为$0$或$1$的数字。\n",
    "\n",
    "标量由只有一个元素的张量表示。 下面的代码将实例化两个标量，并执行一些熟悉的算术运算，即加法、乘法、除法和指数。\n"
   ]
  },
  {
   "cell_type": "code",
   "execution_count": 1,
   "id": "23198d67-610b-42e4-a7d9-49f842610565",
   "metadata": {},
   "outputs": [
    {
     "name": "stderr",
     "output_type": "stream",
     "text": [
      "2023-07-13 03:21:31.770596: I tensorflow/core/util/util.cc:169] oneDNN custom operations are on. You may see slightly different numerical results due to floating-point round-off errors from different computation orders. To turn them off, set the environment variable `TF_ENABLE_ONEDNN_OPTS=0`.\n",
      "2023-07-13 03:21:31.784705: W tensorflow/stream_executor/platform/default/dso_loader.cc:64] Could not load dynamic library 'libcudart.so.11.0'; dlerror: libcudart.so.11.0: cannot open shared object file: No such file or directory\n",
      "2023-07-13 03:21:31.784734: I tensorflow/stream_executor/cuda/cudart_stub.cc:29] Ignore above cudart dlerror if you do not have a GPU set up on your machine.\n",
      "2023-07-13 03:21:35.558183: W tensorflow/stream_executor/platform/default/dso_loader.cc:64] Could not load dynamic library 'libcuda.so.1'; dlerror: libcuda.so.1: cannot open shared object file: No such file or directory\n",
      "2023-07-13 03:21:35.558237: W tensorflow/stream_executor/cuda/cuda_driver.cc:269] failed call to cuInit: UNKNOWN ERROR (303)\n",
      "2023-07-13 03:21:35.558275: I tensorflow/stream_executor/cuda/cuda_diagnostics.cc:156] kernel driver does not appear to be running on this host (d5e55f36ea01): /proc/driver/nvidia/version does not exist\n",
      "2023-07-13 03:21:35.561505: I tensorflow/core/platform/cpu_feature_guard.cc:193] This TensorFlow binary is optimized with oneAPI Deep Neural Network Library (oneDNN) to use the following CPU instructions in performance-critical operations:  AVX2 AVX512F AVX512_VNNI FMA\n",
      "To enable them in other operations, rebuild TensorFlow with the appropriate compiler flags.\n"
     ]
    },
    {
     "data": {
      "text/plain": [
       "(<tf.Tensor: shape=(), dtype=float32, numpy=5.0>,\n",
       " <tf.Tensor: shape=(), dtype=float32, numpy=6.0>,\n",
       " <tf.Tensor: shape=(), dtype=float32, numpy=1.5>,\n",
       " <tf.Tensor: shape=(), dtype=float32, numpy=9.0>)"
      ]
     },
     "execution_count": 1,
     "metadata": {},
     "output_type": "execute_result"
    }
   ],
   "source": [
    "import tensorflow as tf\n",
    "\n",
    "x = tf.constant(3.0)\n",
    "y = tf.constant(2.0)\n",
    "\n",
    "x + y, x * y, x / y, x**y"
   ]
  },
  {
   "cell_type": "markdown",
   "id": "bbde61ed-8aff-495e-a34a-bebcfc89ee4d",
   "metadata": {},
   "source": [
    "### 2.3.2. 向量\n",
    "向量可以被视为标量值组成的列表。 这些标量值被称为向量的元素（element）或分量（component）。 当向量表示数据集中的样本时，它们的值具有一定的现实意义。 例如，如果我们正在训练一个模型来预测贷款违约风险，可能会将每个申请人与一个向量相关联， 其分量与其收入、工作年限、过往违约次数和其他因素相对应。 如果我们正在研究医院患者可能面临的心脏病发作风险，可能会用一个向量来表示每个患者， 其分量为最近的生命体征、胆固醇水平、每天运动时间等。 在数学表示法中，向量通常记为粗体、小写的符号 （例如，$x$、$y$和$z$）。\n",
    "\n",
    "人们通过一维张量表示向量。一般来说，张量可以具有任意长度，取决于机器的内存限制。"
   ]
  },
  {
   "cell_type": "code",
   "execution_count": 2,
   "id": "c9fb03cb-3376-4b55-8d52-f373422092df",
   "metadata": {},
   "outputs": [
    {
     "data": {
      "text/plain": [
       "<tf.Tensor: shape=(4,), dtype=int32, numpy=array([0, 1, 2, 3], dtype=int32)>"
      ]
     },
     "execution_count": 2,
     "metadata": {},
     "output_type": "execute_result"
    }
   ],
   "source": [
    "x = tf.range(4)\n",
    "x"
   ]
  },
  {
   "cell_type": "markdown",
   "id": "40ebab08-cb8b-4db1-836c-804371d96e0e",
   "metadata": {},
   "source": [
    "我们可以使用下标来引用向量的任一元素，例如可以通过$x_i$来引用第$i$个元素。 注意，元素$x_i$是一个标量，所以我们在引用它时不会加粗。 大量文献认为列向量是向量的默认方向，在本书中也是如此。 在数学中，向量$\\mathbf{x}$可以写为：\n",
    "\n",
    "$\\begin{split}\\mathbf{x} =\\begin{bmatrix}x_{1}  \\\\x_{2}  \\\\ \\vdots  \\\\x_{n}\\end{bmatrix},\\end{split}$\n",
    "\n",
    "其中$x_1,\\ldots,x_n$是向量的元素。在代码中，我们通过张量的索引来访问任一元素。"
   ]
  },
  {
   "cell_type": "code",
   "execution_count": 3,
   "id": "8de1bad0-9f64-4b2c-9dc0-db7f4c68a1ba",
   "metadata": {},
   "outputs": [
    {
     "data": {
      "text/plain": [
       "<tf.Tensor: shape=(), dtype=int32, numpy=3>"
      ]
     },
     "execution_count": 3,
     "metadata": {},
     "output_type": "execute_result"
    }
   ],
   "source": [
    "x[3]"
   ]
  },
  {
   "cell_type": "markdown",
   "id": "0206f3e9-cc67-4c9e-a2e5-401dc9682d97",
   "metadata": {},
   "source": [
    "#### 2.3.2.1. 长度、维度和形状\n",
    "向量只是一个数字数组，就像每个数组都有一个长度一样，每个向量也是如此。 在数学表示法中，如果我们想说一个向量$\\mathbf{x}$由$n$个实值标量组成， 可以将其表示为$\\mathbf{x}\\in\\mathbb{R}^n$。 向量的长度通常称为向量的维度（dimension）。\n",
    "\n",
    "与普通的Python数组一样，我们可以通过调用Python的内置len()函数来访问张量的长度。"
   ]
  },
  {
   "cell_type": "code",
   "execution_count": 4,
   "id": "aa0590cc-23a7-4c9e-af73-9a02b5b93455",
   "metadata": {},
   "outputs": [
    {
     "data": {
      "text/plain": [
       "4"
      ]
     },
     "execution_count": 4,
     "metadata": {},
     "output_type": "execute_result"
    }
   ],
   "source": [
    "len(x)"
   ]
  },
  {
   "cell_type": "markdown",
   "id": "f7fdc246-a6ed-49b7-b882-f7af07269ae4",
   "metadata": {},
   "source": [
    "当用张量表示一个向量（只有一个轴）时，我们也可以通过.shape属性访问向量的长度。 形状（shape）是一个元素组，列出了张量沿每个轴的长度（维数）。 对于只有一个轴的张量，形状只有一个元素。"
   ]
  },
  {
   "cell_type": "code",
   "execution_count": 5,
   "id": "91cb89c4-f41f-468f-acea-634f75d8fdd3",
   "metadata": {},
   "outputs": [
    {
     "data": {
      "text/plain": [
       "TensorShape([4])"
      ]
     },
     "execution_count": 5,
     "metadata": {},
     "output_type": "execute_result"
    }
   ],
   "source": [
    "x.shape"
   ]
  },
  {
   "cell_type": "markdown",
   "id": "30dc787f-4fad-4ee3-9980-c33a29cd8b5d",
   "metadata": {},
   "source": [
    "请注意，维度（dimension）这个词在不同上下文时往往会有不同的含义，这经常会使人感到困惑。 为了清楚起见，我们在此明确一下： 向量或轴的维度被用来表示向量或轴的长度，即向量或轴的元素数量。 然而，张量的维度用来表示张量具有的轴数。 在这个意义上，张量的某个轴的维数就是这个轴的长度。"
   ]
  },
  {
   "cell_type": "markdown",
   "id": "ab06a99e-e864-474f-8c39-effe4869f41d",
   "metadata": {},
   "source": [
    "### 2.3.3. 矩阵\n",
    "正如向量将标量从零阶推广到一阶，矩阵将向量从一阶推广到二阶。 矩阵，我们通常用粗体、大写字母来表示 （例如，$\\mathbf{X}$、$\\mathbf{Y}$和$\\mathbf{Z}$）， 在代码中表示为具有两个轴的张量。\n",
    "\n",
    "数学表示法使用$\\mathbf{A} \\in \\mathbb{R}^{m \\times n}$来表示矩阵$\\mathbf{A}$，其由$m$行和$n$列的实值标量组成。 我们可以将任意矩阵$\\mathbf{A} \\in \\mathbb{R}^{m \\times n}$视为一个表格， 其中每个元素$a_{ij}$属于第$i$行第$j$列："
   ]
  },
  {
   "cell_type": "markdown",
   "id": "7aa7cb6c-a3f8-4bde-8031-e8b40da017fa",
   "metadata": {},
   "source": [
    "$\\begin{split}\\mathbf{A}=\\begin{bmatrix} a_{11} & a_{12} & \\cdots & a_{1n} \\\\ a_{21} & a_{22} & \\cdots & a_{2n} \\\\ \\vdots & \\vdots & \\ddots & \\vdots \\\\ a_{m1} & a_{m2} & \\cdots & a_{mn} \\\\ \\end{bmatrix}.\\end{split}$\n",
    "\n",
    "对于任意$\\mathbf{A} \\in \\mathbb{R}^{m \\times n}$，$\\mathbf{A}$的形状是（m, n）或 m x n。 当矩阵具有相同数量的行和列时，其形状将变为正方形； 因此，它被称为方阵（square matrix）。"
   ]
  },
  {
   "cell_type": "markdown",
   "id": "aafe8685-d976-4312-b987-0b0a7dff421e",
   "metadata": {},
   "source": [
    "当调用函数来实例化张量时， 我们可以通过指定两个分量m和n来创建一个形状为 m x n的矩阵。"
   ]
  },
  {
   "cell_type": "code",
   "execution_count": 6,
   "id": "036ebba1-57ef-484b-8663-81d71b421d34",
   "metadata": {},
   "outputs": [
    {
     "data": {
      "text/plain": [
       "<tf.Tensor: shape=(5, 4), dtype=int32, numpy=\n",
       "array([[ 0,  1,  2,  3],\n",
       "       [ 4,  5,  6,  7],\n",
       "       [ 8,  9, 10, 11],\n",
       "       [12, 13, 14, 15],\n",
       "       [16, 17, 18, 19]], dtype=int32)>"
      ]
     },
     "execution_count": 6,
     "metadata": {},
     "output_type": "execute_result"
    }
   ],
   "source": [
    "A = tf.reshape(tf.range(20), (5, 4))\n",
    "A"
   ]
  },
  {
   "cell_type": "markdown",
   "id": "5dc35efc-b3d6-47f3-90e9-5b5495421a46",
   "metadata": {},
   "source": [
    "我们可以通过行索引（$i$）和列索引（$j$）来访问矩阵中的标量元素$a_{ij}$， 例如$[\\mathbf{A}]_{ij}$。 如果没有给出矩阵$\\mathbf{A}$的标量元素，如在 (2.3.2)那样， 我们可以简单地使用矩阵$\\mathbf{A}$的小写字母索引下标 $a_{ij}$ 来引用 $[\\mathbf{A}]_{ij}$。 为了表示起来简单，只有在必要时才会将逗号插入到单独的索引中， 例如$a_{2,3j}$和$[\\mathbf{A}]_{2i-1,3}$。\n",
    "\n",
    "当我们交换矩阵的行和列时，结果称为矩阵的转置（transpose）。 通常用$\\mathbf{a}^\\top$来表示矩阵的转置，如果$\\mathbf{B}=\\mathbf{A}^\\top$， 则对于任意$i$和$j$，都有$b_{ij}=a_{ji}$。 因此，在 (2.3.2)中的转置是一个形状为$n \\times m$的矩阵：\n",
    "\n",
    "$\\begin{split}\\mathbf{A}^\\top =\n",
    "\\begin{bmatrix}\n",
    "    a_{11} & a_{21} & \\dots  & a_{m1} \\\\\n",
    "    a_{12} & a_{22} & \\dots  & a_{m2} \\\\\n",
    "    \\vdots & \\vdots & \\ddots  & \\vdots \\\\\n",
    "    a_{1n} & a_{2n} & \\dots  & a_{mn}\n",
    "\\end{bmatrix}.\\end{split}$\n",
    "\n",
    "现在在代码中访问矩阵的转置。"
   ]
  },
  {
   "cell_type": "code",
   "execution_count": 7,
   "id": "474615f6-f4a6-4cd8-9a59-61e1be827d46",
   "metadata": {},
   "outputs": [
    {
     "data": {
      "text/plain": [
       "<tf.Tensor: shape=(4, 5), dtype=int32, numpy=\n",
       "array([[ 0,  4,  8, 12, 16],\n",
       "       [ 1,  5,  9, 13, 17],\n",
       "       [ 2,  6, 10, 14, 18],\n",
       "       [ 3,  7, 11, 15, 19]], dtype=int32)>"
      ]
     },
     "execution_count": 7,
     "metadata": {},
     "output_type": "execute_result"
    }
   ],
   "source": [
    "tf.transpose(A)"
   ]
  },
  {
   "cell_type": "markdown",
   "id": "e6fc7374-14fc-480c-9b6a-68e1ed8138fa",
   "metadata": {},
   "source": [
    "作为方阵的一种特殊类型，对称矩阵（symmetric matrix）$\\mathbf{A}$等于其转置：$\\mathbf{A} = \\mathbf{A}^\\top$。 这里定义一个对称矩阵$\\mathbf{B}$\n",
    "："
   ]
  },
  {
   "cell_type": "code",
   "execution_count": 8,
   "id": "957afda6-baec-456b-82e2-7a83fbfffb42",
   "metadata": {},
   "outputs": [
    {
     "data": {
      "text/plain": [
       "<tf.Tensor: shape=(3, 3), dtype=int32, numpy=\n",
       "array([[1, 2, 3],\n",
       "       [2, 0, 4],\n",
       "       [3, 4, 5]], dtype=int32)>"
      ]
     },
     "execution_count": 8,
     "metadata": {},
     "output_type": "execute_result"
    }
   ],
   "source": [
    "B = tf.constant([[1, 2, 3], [2, 0, 4], [3, 4, 5]])\n",
    "B"
   ]
  },
  {
   "cell_type": "markdown",
   "id": "e5ac2490-ca1e-4b53-9636-50149ef14cf4",
   "metadata": {},
   "source": [
    "现在我们将B与它的转置进行比较。"
   ]
  },
  {
   "cell_type": "code",
   "execution_count": 9,
   "id": "d7d8c309-2ea1-4809-a821-36678fac236e",
   "metadata": {},
   "outputs": [
    {
     "data": {
      "text/plain": [
       "<tf.Tensor: shape=(3, 3), dtype=bool, numpy=\n",
       "array([[ True,  True,  True],\n",
       "       [ True,  True,  True],\n",
       "       [ True,  True,  True]])>"
      ]
     },
     "execution_count": 9,
     "metadata": {},
     "output_type": "execute_result"
    }
   ],
   "source": [
    "B == tf.transpose(B)"
   ]
  },
  {
   "cell_type": "markdown",
   "id": "4860c798-060a-4471-9a25-92d77a4526ab",
   "metadata": {},
   "source": [
    "矩阵是有用的数据结构：它们允许我们组织具有不同模式的数据。 例如，我们矩阵中的行可能对应于不同的房屋（数据样本），而列可能对应于不同的属性。 曾经使用过电子表格软件或已阅读过 2.2节的人，应该对此很熟悉。 因此，尽管单个向量的默认方向是列向量，但在表示表格数据集的矩阵中， 将每个数据样本作为矩阵中的行向量更为常见。 后面的章节将讲到这点，这种约定将支持常见的深度学习实践。 例如，沿着张量的最外轴，我们可以访问或遍历小批量的数据样本。"
   ]
  },
  {
   "cell_type": "markdown",
   "id": "36bd2eed-954f-455d-9023-a51e6f4a9ef7",
   "metadata": {},
   "source": [
    "### 2.3.4. 张量\n",
    "就像向量是标量的推广，矩阵是向量的推广一样，我们可以构建具有更多轴的数据结构。 张量（本小节中的“张量”指代数对象）是描述具有任意数量轴的$n$维数组的通用方法。 例如，向量是一阶张量，矩阵是二阶张量。 张量用特殊字体的大写字母表示（例如，$\\mathsf{X}$、$\\mathsf{Y}$和$\\mathsf{Z}$）， 它们的索引机制（例如$x_{ijk}$和$[\\mathsf{X}]_{1,2i-1,3}$）与矩阵类似。\n",
    "\n",
    "当我们开始处理图像时，张量将变得更加重要，图像以$n$维数组形式出现， 其中3个轴对应于高度、宽度，以及一个通道（channel）轴， 用于表示颜色通道（红色、绿色和蓝色）。 现在先将高阶张量暂放一边，而是专注学习其基础知识。"
   ]
  },
  {
   "cell_type": "code",
   "execution_count": 10,
   "id": "dd4cc844-83c1-42cb-8bc6-663308c62b03",
   "metadata": {},
   "outputs": [
    {
     "data": {
      "text/plain": [
       "<tf.Tensor: shape=(2, 3, 4), dtype=int32, numpy=\n",
       "array([[[ 0,  1,  2,  3],\n",
       "        [ 4,  5,  6,  7],\n",
       "        [ 8,  9, 10, 11]],\n",
       "\n",
       "       [[12, 13, 14, 15],\n",
       "        [16, 17, 18, 19],\n",
       "        [20, 21, 22, 23]]], dtype=int32)>"
      ]
     },
     "execution_count": 10,
     "metadata": {},
     "output_type": "execute_result"
    }
   ],
   "source": [
    "X = tf.reshape(tf.range(24), (2, 3, 4))\n",
    "X"
   ]
  },
  {
   "cell_type": "markdown",
   "id": "fd8602ef-9d7a-4a9c-bc60-3490aa5b49f3",
   "metadata": {},
   "source": [
    "### 2.3.5. 张量算法的基本性质\n",
    "标量、向量、矩阵和任意数量轴的张量（本小节中的“张量”指代数对象）有一些实用的属性。 例如，从按元素操作的定义中可以注意到，任何按元素的一元运算都不会改变其操作数的形状。 同样，给定具有相同形状的任意两个张量，任何按元素二元运算的结果都将是相同形状的张量。 例如，将两个相同形状的矩阵相加，会在这两个矩阵上执行元素加法。"
   ]
  },
  {
   "cell_type": "code",
   "execution_count": 11,
   "id": "0b3372d7-4275-4fd1-90aa-8fe89301d427",
   "metadata": {},
   "outputs": [
    {
     "data": {
      "text/plain": [
       "(<tf.Tensor: shape=(5, 4), dtype=float32, numpy=\n",
       " array([[ 0.,  1.,  2.,  3.],\n",
       "        [ 4.,  5.,  6.,  7.],\n",
       "        [ 8.,  9., 10., 11.],\n",
       "        [12., 13., 14., 15.],\n",
       "        [16., 17., 18., 19.]], dtype=float32)>,\n",
       " <tf.Tensor: shape=(5, 4), dtype=float32, numpy=\n",
       " array([[ 0.,  2.,  4.,  6.],\n",
       "        [ 8., 10., 12., 14.],\n",
       "        [16., 18., 20., 22.],\n",
       "        [24., 26., 28., 30.],\n",
       "        [32., 34., 36., 38.]], dtype=float32)>)"
      ]
     },
     "execution_count": 11,
     "metadata": {},
     "output_type": "execute_result"
    }
   ],
   "source": [
    "A = tf.reshape(tf.range(20, dtype=tf.float32), (5, 4))\n",
    "B = A  # 不能通过分配新内存将A克隆到B\n",
    "A, A + B"
   ]
  },
  {
   "cell_type": "markdown",
   "id": "5b7232c3-ea86-4dfe-bea5-206012d8faf6",
   "metadata": {},
   "source": [
    "具体而言，两个矩阵的按元素乘法称为Hadamard积（Hadamard product）（数学符号$\\odot$）。 对于矩阵$\\mathbf{B} \\in \\mathbb{R}^{m \\times n}$， 其中第$i$行和第$j$列的元素是$b_{ij}$。 矩阵$\\mathbf{A}$（在 (2.3.2)中定义）和$\\mathbf{B}$的Hadamard积为：\n",
    "\n",
    "$\\begin{split}\\mathbf{A} \\odot \\mathbf{B} =\n",
    "\\begin{bmatrix}\n",
    "    a_{11}  b_{11} & a_{12}  b_{12} & \\dots  & a_{1n}  b_{1n} \\\\\n",
    "    a_{21}  b_{21} & a_{22}  b_{22} & \\dots  & a_{2n}  b_{2n} \\\\\n",
    "    \\vdots & \\vdots & \\ddots & \\vdots \\\\\n",
    "    a_{m1}  b_{m1} & a_{m2}  b_{m2} & \\dots  & a_{mn}  b_{mn}\n",
    "\\end{bmatrix}.\\end{split}$"
   ]
  },
  {
   "cell_type": "code",
   "execution_count": 12,
   "id": "881d3f75-7807-4f46-8093-4fcb45a3b53b",
   "metadata": {},
   "outputs": [
    {
     "data": {
      "text/plain": [
       "<tf.Tensor: shape=(5, 4), dtype=float32, numpy=\n",
       "array([[  0.,   1.,   4.,   9.],\n",
       "       [ 16.,  25.,  36.,  49.],\n",
       "       [ 64.,  81., 100., 121.],\n",
       "       [144., 169., 196., 225.],\n",
       "       [256., 289., 324., 361.]], dtype=float32)>"
      ]
     },
     "execution_count": 12,
     "metadata": {},
     "output_type": "execute_result"
    }
   ],
   "source": [
    "A * B"
   ]
  },
  {
   "cell_type": "markdown",
   "id": "403c17b4-f21d-4e3c-98b8-093cedae533c",
   "metadata": {},
   "source": [
    "将张量乘以或加上一个标量不会改变张量的形状，其中张量的每个元素都将与标量相加或相乘。"
   ]
  },
  {
   "cell_type": "code",
   "execution_count": 13,
   "id": "ead25944-8fca-4d71-a8bc-6f7887f9a173",
   "metadata": {},
   "outputs": [
    {
     "data": {
      "text/plain": [
       "(<tf.Tensor: shape=(2, 3, 4), dtype=int32, numpy=\n",
       " array([[[ 2,  3,  4,  5],\n",
       "         [ 6,  7,  8,  9],\n",
       "         [10, 11, 12, 13]],\n",
       " \n",
       "        [[14, 15, 16, 17],\n",
       "         [18, 19, 20, 21],\n",
       "         [22, 23, 24, 25]]], dtype=int32)>,\n",
       " TensorShape([2, 3, 4]))"
      ]
     },
     "execution_count": 13,
     "metadata": {},
     "output_type": "execute_result"
    }
   ],
   "source": [
    "a = 2\n",
    "X = tf.reshape(tf.range(24), (2, 3, 4))\n",
    "a + X, (a * X).shape"
   ]
  },
  {
   "cell_type": "markdown",
   "id": "d6f9d4c3-afcd-4741-aed2-dad21f439152",
   "metadata": {},
   "source": [
    "### 2.3.6. 降维\n",
    "我们可以对任意张量进行的一个有用的操作是计算其元素的和。 数学表示法使用$\\sum$符号表示求和。 为了表示长度为$d$的向量中元素的总和，可以记为$\\sum_{i=1}^dx_i$。 在代码中可以调用计算求和的函数："
   ]
  },
  {
   "cell_type": "code",
   "execution_count": 14,
   "id": "2d056146-c207-4503-a4d2-7e1bf6dd6e47",
   "metadata": {},
   "outputs": [
    {
     "data": {
      "text/plain": [
       "(<tf.Tensor: shape=(4,), dtype=float32, numpy=array([0., 1., 2., 3.], dtype=float32)>,\n",
       " <tf.Tensor: shape=(), dtype=float32, numpy=6.0>)"
      ]
     },
     "execution_count": 14,
     "metadata": {},
     "output_type": "execute_result"
    }
   ],
   "source": [
    "x = tf.range(4, dtype=tf.float32)\n",
    "x, tf.reduce_sum(x)"
   ]
  },
  {
   "cell_type": "markdown",
   "id": "d06047af-3fca-4350-8c64-8cbe5742837a",
   "metadata": {},
   "source": [
    "我们可以表示任意形状张量的元素和。 例如，矩阵$\\mathbf{A}$中元素的和可以记为$\\sum_{i=1}^{m} \\sum_{j=1}^{n} a_{ij}$。"
   ]
  },
  {
   "cell_type": "code",
   "execution_count": 15,
   "id": "7934b819-ebe1-445f-883f-90c8564b63e2",
   "metadata": {},
   "outputs": [
    {
     "data": {
      "text/plain": [
       "(TensorShape([5, 4]), <tf.Tensor: shape=(), dtype=float32, numpy=190.0>)"
      ]
     },
     "execution_count": 15,
     "metadata": {},
     "output_type": "execute_result"
    }
   ],
   "source": [
    "A.shape, tf.reduce_sum(A)"
   ]
  },
  {
   "cell_type": "markdown",
   "id": "36ffa860-e265-4bac-82f5-19ba3324e7f9",
   "metadata": {},
   "source": [
    "默认情况下，调用求和函数会沿所有的轴降低张量的维度，使它变为一个标量。 我们还可以指定张量沿哪一个轴来通过求和降低维度。 以矩阵为例，为了通过求和所有行的元素来降维（轴0），可以在调用函数时指定axis=0。 由于输入矩阵沿0轴降维以生成输出向量，因此输入轴0的维数在输出形状中消失。"
   ]
  },
  {
   "cell_type": "code",
   "execution_count": 16,
   "id": "c98970f5-83d3-4797-8e5e-b0b70793669a",
   "metadata": {},
   "outputs": [
    {
     "data": {
      "text/plain": [
       "(<tf.Tensor: shape=(4,), dtype=float32, numpy=array([40., 45., 50., 55.], dtype=float32)>,\n",
       " TensorShape([4]))"
      ]
     },
     "execution_count": 16,
     "metadata": {},
     "output_type": "execute_result"
    }
   ],
   "source": [
    "A_sum_axis0 = tf.reduce_sum(A, axis=0)\n",
    "A_sum_axis0, A_sum_axis0.shape"
   ]
  },
  {
   "cell_type": "markdown",
   "id": "cfc8b992-3b98-4dc6-977e-6ed583eb56f9",
   "metadata": {},
   "source": [
    "指定axis=1将通过汇总所有列的元素降维（轴1）。因此，输入轴1的维数在输出形状中消失。"
   ]
  },
  {
   "cell_type": "code",
   "execution_count": 17,
   "id": "c691f330-b015-45d9-a47b-b34d0cc14961",
   "metadata": {},
   "outputs": [
    {
     "data": {
      "text/plain": [
       "(<tf.Tensor: shape=(5,), dtype=float32, numpy=array([ 6., 22., 38., 54., 70.], dtype=float32)>,\n",
       " TensorShape([5]))"
      ]
     },
     "execution_count": 17,
     "metadata": {},
     "output_type": "execute_result"
    }
   ],
   "source": [
    "A_sum_axis1 = tf.reduce_sum(A, axis=1)\n",
    "A_sum_axis1, A_sum_axis1.shape"
   ]
  },
  {
   "cell_type": "markdown",
   "id": "b1fd20ab-2942-4e8b-ae57-ef14fc204fb5",
   "metadata": {},
   "source": [
    "沿着行和列对矩阵求和，等价于对矩阵的所有元素进行求和。"
   ]
  },
  {
   "cell_type": "code",
   "execution_count": 18,
   "id": "799441f2-f997-40a8-8961-426258e516b1",
   "metadata": {},
   "outputs": [
    {
     "data": {
      "text/plain": [
       "<tf.Tensor: shape=(), dtype=float32, numpy=190.0>"
      ]
     },
     "execution_count": 18,
     "metadata": {},
     "output_type": "execute_result"
    }
   ],
   "source": [
    "tf.reduce_sum(A, axis=[0, 1])  # 结果和tf.reduce_sum(A)相同"
   ]
  },
  {
   "cell_type": "markdown",
   "id": "ce2cb44a-47de-4e58-b737-7e62cc639c02",
   "metadata": {},
   "source": [
    "一个与求和相关的量是平均值（mean或average）。 我们通过将总和除以元素总数来计算平均值。 在代码中，我们可以调用函数来计算任意形状张量的平均值。"
   ]
  },
  {
   "cell_type": "code",
   "execution_count": 19,
   "id": "349c9b29-36d0-4f98-ba06-1f365bead60a",
   "metadata": {},
   "outputs": [
    {
     "data": {
      "text/plain": [
       "(<tf.Tensor: shape=(), dtype=float32, numpy=9.5>,\n",
       " <tf.Tensor: shape=(), dtype=float32, numpy=9.5>)"
      ]
     },
     "execution_count": 19,
     "metadata": {},
     "output_type": "execute_result"
    }
   ],
   "source": [
    "tf.reduce_mean(A), tf.reduce_sum(A) / tf.size(A).numpy()"
   ]
  },
  {
   "cell_type": "markdown",
   "id": "6d05306b-1077-4e50-a3f4-d7874b11b1b1",
   "metadata": {},
   "source": [
    "同样，计算平均值的函数也可以沿指定轴降低张量的维度。"
   ]
  },
  {
   "cell_type": "code",
   "execution_count": 20,
   "id": "751ffcfa-a32d-45ae-bdf1-af74a4dfb2d6",
   "metadata": {},
   "outputs": [
    {
     "data": {
      "text/plain": [
       "(<tf.Tensor: shape=(4,), dtype=float32, numpy=array([ 8.,  9., 10., 11.], dtype=float32)>,\n",
       " <tf.Tensor: shape=(4,), dtype=float32, numpy=array([ 8.,  9., 10., 11.], dtype=float32)>)"
      ]
     },
     "execution_count": 20,
     "metadata": {},
     "output_type": "execute_result"
    }
   ],
   "source": [
    "tf.reduce_mean(A, axis=0), tf.reduce_sum(A, axis=0) / A.shape[0]"
   ]
  },
  {
   "cell_type": "markdown",
   "id": "7f5d0c28-55d0-4a4b-9aa1-2ab174341a30",
   "metadata": {},
   "source": [
    "#### 2.3.6.1. 非降维求和\n",
    "但是，有时在调用函数来计算总和或均值时保持轴数不变会很有用。"
   ]
  },
  {
   "cell_type": "code",
   "execution_count": 21,
   "id": "52e139dd-0ed9-478e-b1cd-bc0895872fd5",
   "metadata": {},
   "outputs": [
    {
     "data": {
      "text/plain": [
       "<tf.Tensor: shape=(5, 1), dtype=float32, numpy=\n",
       "array([[ 6.],\n",
       "       [22.],\n",
       "       [38.],\n",
       "       [54.],\n",
       "       [70.]], dtype=float32)>"
      ]
     },
     "execution_count": 21,
     "metadata": {},
     "output_type": "execute_result"
    }
   ],
   "source": [
    "sum_A = tf.reduce_sum(A, axis=1, keepdims=True)\n",
    "sum_A"
   ]
  },
  {
   "cell_type": "markdown",
   "id": "411584d3-fa1e-4cce-a80f-f80db5274cb9",
   "metadata": {},
   "source": [
    "例如，由于sum_A在对每行进行求和后仍保持两个轴，我们可以通过广播将A除以sum_A。"
   ]
  },
  {
   "cell_type": "code",
   "execution_count": 23,
   "id": "8e1943cc-415e-4603-91b7-5c993a2f79c2",
   "metadata": {},
   "outputs": [
    {
     "data": {
      "text/plain": [
       "<tf.Tensor: shape=(5, 4), dtype=float32, numpy=\n",
       "array([[0.        , 0.16666667, 0.33333334, 0.5       ],\n",
       "       [0.18181819, 0.22727273, 0.27272728, 0.3181818 ],\n",
       "       [0.21052632, 0.23684211, 0.2631579 , 0.28947368],\n",
       "       [0.22222222, 0.24074075, 0.25925925, 0.2777778 ],\n",
       "       [0.22857143, 0.24285714, 0.25714287, 0.27142859]], dtype=float32)>"
      ]
     },
     "execution_count": 23,
     "metadata": {},
     "output_type": "execute_result"
    }
   ],
   "source": [
    "A / sum_A"
   ]
  },
  {
   "cell_type": "markdown",
   "id": "7f9f4ee3-bf60-40e5-a667-f57e9163d2d2",
   "metadata": {},
   "source": [
    "如果我们想沿某个轴计算A元素的累积总和， 比如axis=0（按行计算），可以调用cumsum函数。 此函数不会沿任何轴降低输入张量的维度。"
   ]
  },
  {
   "cell_type": "code",
   "execution_count": 24,
   "id": "b3ad65b9-4a59-407e-b82f-300fdba0d28a",
   "metadata": {},
   "outputs": [
    {
     "data": {
      "text/plain": [
       "<tf.Tensor: shape=(5, 4), dtype=float32, numpy=\n",
       "array([[ 0.,  1.,  2.,  3.],\n",
       "       [ 4.,  6.,  8., 10.],\n",
       "       [12., 15., 18., 21.],\n",
       "       [24., 28., 32., 36.],\n",
       "       [40., 45., 50., 55.]], dtype=float32)>"
      ]
     },
     "execution_count": 24,
     "metadata": {},
     "output_type": "execute_result"
    }
   ],
   "source": [
    "tf.cumsum(A, axis=0)"
   ]
  },
  {
   "cell_type": "markdown",
   "id": "98c2a0fe-0364-4d3d-bfaf-e3d6ac18968d",
   "metadata": {},
   "source": [
    "### 2.3.7. 点积（Dot Product）\n",
    "我们已经学习了按元素操作、求和及平均值。 另一个最基本的操作之一是点积。 给定两个向量$\\mathbf{x},\\mathbf{y}\\in\\mathbb{R}^d$， 它们的点积（dot product）$\\mathbf{x}^\\top\\mathbf{y}$（或$\\langle\\mathbf{x},\\mathbf{y}\\rangle$）是相同位置的按元素乘积的和：$\\mathbf{x}^\\top \\mathbf{y} = \\sum_{i=1}^{d} x_i y_i$。"
   ]
  },
  {
   "cell_type": "code",
   "execution_count": 25,
   "id": "2f6f0f9d-b6d5-454b-9d55-c0579de85a40",
   "metadata": {},
   "outputs": [
    {
     "data": {
      "text/plain": [
       "(<tf.Tensor: shape=(4,), dtype=float32, numpy=array([0., 1., 2., 3.], dtype=float32)>,\n",
       " <tf.Tensor: shape=(4,), dtype=float32, numpy=array([1., 1., 1., 1.], dtype=float32)>,\n",
       " <tf.Tensor: shape=(), dtype=float32, numpy=6.0>)"
      ]
     },
     "execution_count": 25,
     "metadata": {},
     "output_type": "execute_result"
    }
   ],
   "source": [
    "y = tf.ones(4, dtype=tf.float32)\n",
    "x, y, tf.tensordot(x, y, axes=1)"
   ]
  },
  {
   "cell_type": "markdown",
   "id": "3a923208-df43-41e4-9966-342dbf69f29f",
   "metadata": {},
   "source": [
    "注意，我们可以通过执行按元素乘法，然后进行求和来表示两个向量的点积："
   ]
  },
  {
   "cell_type": "code",
   "execution_count": 26,
   "id": "3f79604a-e9d7-41dc-b5f9-79142e5b9180",
   "metadata": {},
   "outputs": [
    {
     "data": {
      "text/plain": [
       "<tf.Tensor: shape=(), dtype=float32, numpy=6.0>"
      ]
     },
     "execution_count": 26,
     "metadata": {},
     "output_type": "execute_result"
    }
   ],
   "source": [
    "tf.reduce_sum(x * y)"
   ]
  },
  {
   "cell_type": "markdown",
   "id": "c62eed1f-be90-483d-8c0e-4e7953dc2132",
   "metadata": {},
   "source": [
    "点积在很多场合都很有用。 例如，给定一组由向量$\\mathbf{x} \\in \\mathbb{R}^d$表示的值， 和一组由$\\mathbf{w} \\in \\mathbb{R}^d$表示的权重。$x$中的值根据权重$w$的加权和， 可以表示为点积$\\mathbf{x}^\\top \\mathbf{w}$。 当权重为非负数且和为1（即$\\left(\\sum_{i=1}^{d}{w_i}=1\\right)$）时， 点积表示加权平均（weighted average）。将两个向量规范化得到单位长度后，点积表示它们夹角的余弦。"
   ]
  },
  {
   "cell_type": "markdown",
   "id": "cf0f7ef6-310c-4933-b77c-93577b16e4b8",
   "metadata": {},
   "source": [
    "### 2.3.8. 矩阵-向量积\n",
    "现在我们知道如何计算点积，可以开始理解矩阵-向量积（matrix-vector product）。 回顾分别在 (2.3.2)和 (2.3.1)中定义的矩阵$\\mathbf{A} \\in \\mathbb{R}^{m \\times n}$和向量$\\mathbf{x} \\in \\mathbb{R}^n$。 让我们将矩阵$\\mathbf{A}$用它的行向量表示：\n",
    "\n",
    "$\\begin{split}\\mathbf{A}=\n",
    "\\begin{bmatrix}\n",
    "\\mathbf{a}^\\top_{1} \\\\\n",
    "\\mathbf{a}^\\top_{2} \\\\\n",
    "\\vdots \\\\\n",
    "\\mathbf{a}^\\top_m \\\\\n",
    "\\end{bmatrix},\\end{split}$"
   ]
  },
  {
   "cell_type": "markdown",
   "id": "82bd5a17-3fec-4b51-970f-cff3ec6367b4",
   "metadata": {},
   "source": [
    "其中每个$\\mathbf{a}^\\top_{i} \\in \\mathbb{R}^n$都是行向量，表示矩阵的第$i$行。 矩阵向量积$\\mathbf{A}\\mathbf{x}$是一个长度为$m$的列向量， 其第$i$个元素是点积$\\mathbf{a}^\\top_i \\mathbf{x}$：\n",
    "\n",
    "$\\begin{split}\\mathbf{A}\\mathbf{x}\n",
    "= \\begin{bmatrix}\n",
    "\\mathbf{a}^\\top_{1} \\\\\n",
    "\\mathbf{a}^\\top_{2} \\\\\n",
    "\\vdots \\\\\n",
    "\\mathbf{a}^\\top_m \\\\\n",
    "\\end{bmatrix}\\mathbf{x}\n",
    "= \\begin{bmatrix}\n",
    " \\mathbf{a}^\\top_{1} \\mathbf{x}  \\\\\n",
    " \\mathbf{a}^\\top_{2} \\mathbf{x} \\\\\n",
    "\\vdots\\\\\n",
    " \\mathbf{a}^\\top_{m} \\mathbf{x}\\\\\n",
    "\\end{bmatrix}.\\end{split}$\n",
    "\n",
    "我们可以把一个矩阵$\\mathbf{A} \\in \\mathbb{R}^{m \\times n}$乘法看作一个从$\\mathbb{R}^{n}$到$\\mathbb{R}^{m}$向量的转换。 这些转换是非常有用的，例如可以用方阵的乘法来表示旋转。可以使用矩阵-向量积来描述在给定前一层的值时， 求解神经网络每一层所需的复杂计算。"
   ]
  },
  {
   "cell_type": "markdown",
   "id": "7d8d7c83-9c76-4cfa-8f1a-455a91488436",
   "metadata": {},
   "source": [
    "在代码中使用张量表示矩阵-向量积，我们使用与点积相同的matvec函数。 当我们为矩阵A和向量x调用tf.linalg.matvec(A, x)时，会执行矩阵-向量积。 注意，A的列维数（沿轴1的长度）必须与x的维数（其长度）相同。"
   ]
  },
  {
   "cell_type": "code",
   "execution_count": 27,
   "id": "2cb552c9-fea4-4a22-befc-861cf2053078",
   "metadata": {},
   "outputs": [
    {
     "data": {
      "text/plain": [
       "(TensorShape([5, 4]),\n",
       " TensorShape([4]),\n",
       " <tf.Tensor: shape=(5,), dtype=float32, numpy=array([ 14.,  38.,  62.,  86., 110.], dtype=float32)>)"
      ]
     },
     "execution_count": 27,
     "metadata": {},
     "output_type": "execute_result"
    }
   ],
   "source": [
    "A.shape, x.shape, tf.linalg.matvec(A, x)"
   ]
  },
  {
   "cell_type": "markdown",
   "id": "e7788caa-3d38-452a-8a2c-66d9d2ce722f",
   "metadata": {},
   "source": [
    "### 2.3.9. 矩阵-矩阵乘法\n",
    "在掌握点积和矩阵-向量积的知识后， 那么**矩阵-矩阵乘法**（matrix-matrix multiplication）应该很简单。\n",
    "\n",
    "假设有两个矩阵$\\mathbf{A} \\in \\mathbb{R}^{n \\times k}$和$\\mathbf{B} \\in \\mathbb{R}^{n \\times k}$：\n",
    "\n",
    "$\\begin{split}\\mathbf{A}=\\begin{bmatrix}\n",
    " a_{11} & a_{12} & \\cdots & a_{1k} \\\\\n",
    " a_{21} & a_{22} & \\cdots & a_{2k} \\\\\n",
    "\\vdots & \\vdots & \\ddots & \\vdots \\\\\n",
    " a_{n1} & a_{n2} & \\cdots & a_{nk} \\\\\n",
    "\\end{bmatrix},\\quad\n",
    "\\mathbf{B}=\\begin{bmatrix}\n",
    " b_{11} & b_{12} & \\cdots & b_{1m} \\\\\n",
    " b_{21} & b_{22} & \\cdots & b_{2m} \\\\\n",
    "\\vdots & \\vdots & \\ddots & \\vdots \\\\\n",
    " b_{k1} & b_{k2} & \\cdots & b_{km} \\\\\n",
    "\\end{bmatrix}.\\end{split}$\n",
    "\n",
    "用行向量$\\mathbf{a}^\\top_{i} \\in \\mathbb{R}^k$表示矩阵$\\mathbf{A}$的第$i$行，并让列向量$\\mathbf{b}_{j} \\in \\mathbb{R}^k$作为矩阵$\\mathbf{B}$的第$j$列。要生成矩阵积$\\mathbf{C} = \\mathbf{A}\\mathbf{B}$，最简单的方法是考虑$\\mathbf{A}$的行向量和$\\mathbf{B}$的列向量:\n",
    "\n",
    "$\\begin{split}\\mathbf{A}=\n",
    "\\begin{bmatrix}\n",
    "\\mathbf{a}^\\top_{1} \\\\\n",
    "\\mathbf{a}^\\top_{2} \\\\\n",
    "\\vdots \\\\\n",
    "\\mathbf{a}^\\top_n \\\\\n",
    "\\end{bmatrix},\n",
    "\\quad \\mathbf{B}=\\begin{bmatrix}\n",
    " \\mathbf{b}_{1} & \\mathbf{b}_{2} & \\cdots & \\mathbf{b}_{m} \\\\\n",
    "\\end{bmatrix}.\\end{split}$\n",
    "\n",
    "当我们简单地将每个元素$c_{ij}$计算为点积$\\mathbf{a}^\\top_i \\mathbf{b}_j$:\n",
    "\n",
    "$\\begin{split}\\mathbf{C} = \\mathbf{AB} = \\begin{bmatrix}\n",
    "\\mathbf{a}^\\top_{1} \\\\\n",
    "\\mathbf{a}^\\top_{2} \\\\\n",
    "\\vdots \\\\\n",
    "\\mathbf{a}^\\top_n \\\\\n",
    "\\end{bmatrix}\n",
    "\\begin{bmatrix}\n",
    " \\mathbf{b}_{1} & \\mathbf{b}_{2} & \\cdots & \\mathbf{b}_{m} \\\\\n",
    "\\end{bmatrix}\n",
    "= \\begin{bmatrix}\n",
    "\\mathbf{a}^\\top_{1} \\mathbf{b}_1 & \\mathbf{a}^\\top_{1}\\mathbf{b}_2& \\cdots & \\mathbf{a}^\\top_{1} \\mathbf{b}_m \\\\\n",
    " \\mathbf{a}^\\top_{2}\\mathbf{b}_1 & \\mathbf{a}^\\top_{2} \\mathbf{b}_2 & \\cdots & \\mathbf{a}^\\top_{2} \\mathbf{b}_m \\\\\n",
    " \\vdots & \\vdots & \\ddots &\\vdots\\\\\n",
    "\\mathbf{a}^\\top_{n} \\mathbf{b}_1 & \\mathbf{a}^\\top_{n}\\mathbf{b}_2& \\cdots& \\mathbf{a}^\\top_{n} \\mathbf{b}_m\n",
    "\\end{bmatrix}.\\end{split}$\n",
    "\n",
    "我们可以将矩阵-矩阵乘法$\\mathbf{AB}$看作简单地执行$m$次矩阵-向量积，并将结果拼接在一起，形成一个$n \\times m$矩阵。 在下面的代码中，我们在A和B上执行矩阵乘法。 这里的A是一个5行4列的矩阵，B是一个4行3列的矩阵。 两者相乘后，我们得到了一个5行3列的矩阵。"
   ]
  },
  {
   "cell_type": "code",
   "execution_count": 28,
   "id": "4dfb1d99-8674-4d06-b23a-8d5f3ea2e173",
   "metadata": {},
   "outputs": [
    {
     "data": {
      "text/plain": [
       "<tf.Tensor: shape=(5, 3), dtype=float32, numpy=\n",
       "array([[ 6.,  6.,  6.],\n",
       "       [22., 22., 22.],\n",
       "       [38., 38., 38.],\n",
       "       [54., 54., 54.],\n",
       "       [70., 70., 70.]], dtype=float32)>"
      ]
     },
     "execution_count": 28,
     "metadata": {},
     "output_type": "execute_result"
    }
   ],
   "source": [
    "B = tf.ones((4, 3), tf.float32)\n",
    "tf.matmul(A, B)"
   ]
  },
  {
   "cell_type": "markdown",
   "id": "0efb738d-97fe-4f2b-bd9d-058a895e6d9a",
   "metadata": {},
   "source": [
    "矩阵-矩阵乘法可以简单地称为**矩阵乘法**，不应与”Hadamard积”混淆。"
   ]
  },
  {
   "cell_type": "markdown",
   "id": "17b4550d-bbcc-4cd6-8899-6bb1496ab85a",
   "metadata": {},
   "source": [
    "### 2.3.10. 范数\n",
    "线性代数中最有用的一些运算符是范数（norm）。 非正式地说，向量的范数是表示一个向量有多大。 这里考虑的大小（size）概念不涉及维度，而是分量的大小。\n",
    "\n",
    "在线性代数中，向量范数是将向量映射到标量的函数$f$。 给定任意向量$x$，向量范数要满足一些属性。 第一个性质是：如果我们按常数因子$\\alpha$缩放向量的所有元素， 其范数也会按相同常数因子的绝对值缩放：\n",
    "\n",
    "$f(\\alpha \\mathbf{x}) = |\\alpha| f(\\mathbf{x})$\n",
    "\n",
    "第二个性质是熟悉的三角不等式:\n",
    "\n",
    "$f(\\mathbf{x} + \\mathbf{y}) \\leq f(\\mathbf{x}) + f(\\mathbf{y})$\n",
    "\n",
    "第三个性质简单地说范数必须是非负的:\n",
    "\n",
    "$f(\\mathbf{x}) \\geq 0$\n",
    "\n",
    "这是有道理的。因为在大多数情况下，任何东西的最小的大小是0。 最后一个性质要求范数最小为0，当且仅当向量全由0组成。\n",
    "\n",
    "$\\forall i, [\\mathbf{x}]_i = 0 \\Leftrightarrow f(\\mathbf{x})=0$\n",
    "\n",
    "范数听起来很像距离的度量。 欧几里得距离和毕达哥拉斯定理中的非负性概念和三角不等式可能会给出一些启发。 事实上，欧几里得距离是一个$L_2$范数： 假设$n$维向量$x$中的元素是$x_1,\\ldots,x_n$，其$L_2$范数是向量元素平方和的平方根：\n",
    "\n",
    "$\\|\\mathbf{x}\\|_2 = \\sqrt{\\sum_{i=1}^n x_i^2}$\n",
    "\n",
    "其中，在$L_2$范数中常常省略下标$2$，也就是说$\\|\\mathbf{x}\\|$等同于$\\|\\mathbf{x}\\|_2$。 在代码中，我们可以按如下方式计算向量的$L_2$范数。"
   ]
  },
  {
   "cell_type": "code",
   "execution_count": 29,
   "id": "ab11aac5-79eb-4844-a1fd-0880f2961136",
   "metadata": {},
   "outputs": [
    {
     "data": {
      "text/plain": [
       "<tf.Tensor: shape=(), dtype=float32, numpy=5.0>"
      ]
     },
     "execution_count": 29,
     "metadata": {},
     "output_type": "execute_result"
    }
   ],
   "source": [
    "u = tf.constant([3.0, -4.0])\n",
    "tf.norm(u)"
   ]
  },
  {
   "cell_type": "markdown",
   "id": "52196a23-d624-48c4-9d3b-912c11bfe330",
   "metadata": {},
   "source": [
    "深度学习中更经常地使用$L_2$范数的平方，也会经常遇到$L_1$范数，它表示为向量元素的绝对值之和：\n",
    "\n",
    "$\\|\\mathbf{x}\\|_1 = \\sum_{i=1}^n \\left|x_i \\right|$\n",
    "\n",
    "与$L_2$范数相比，$L_1$范数受异常值的影响较小。 为了计算$L_1$范数，我们将绝对值函数和按元素求和组合起来。"
   ]
  },
  {
   "cell_type": "code",
   "execution_count": 30,
   "id": "a8809ce7-3cb1-41b2-a1a8-3891b3189712",
   "metadata": {},
   "outputs": [
    {
     "data": {
      "text/plain": [
       "<tf.Tensor: shape=(), dtype=float32, numpy=7.0>"
      ]
     },
     "execution_count": 30,
     "metadata": {},
     "output_type": "execute_result"
    }
   ],
   "source": [
    "tf.reduce_sum(tf.abs(u))"
   ]
  },
  {
   "cell_type": "markdown",
   "id": "5eb9d414-7d60-4951-927a-fbb55ba644bc",
   "metadata": {},
   "source": [
    "$L_2$范数和$L_1$范数都是更一般的$L_p$范数的特例：\n",
    "\n",
    "$\\|\\mathbf{x}\\|_p = \\left(\\sum_{i=1}^n \\left|x_i \\right|^p \\right)^{1/p}$\n",
    "\n",
    "类似于向量的$L_2$范数，矩阵$\\mathbf{X} \\in \\mathbb{R}^{m \\times n}$的Frobenius范数（Frobenius norm）是矩阵元素平方和的平方根：\n",
    "\n",
    "$\\|\\mathbf{X}\\|_F = \\sqrt{\\sum_{i=1}^m \\sum_{j=1}^n x_{ij}^2}$\n",
    "\n",
    "Frobenius范数满足向量范数的所有性质，它就像是矩阵形向量的$L_2$范数。 调用以下函数将计算矩阵的Frobenius范数。"
   ]
  },
  {
   "cell_type": "code",
   "execution_count": 32,
   "id": "4168e0ec-5545-4bc2-a900-1e6f243f2e48",
   "metadata": {},
   "outputs": [
    {
     "data": {
      "text/plain": [
       "<tf.Tensor: shape=(), dtype=float32, numpy=6.0>"
      ]
     },
     "execution_count": 32,
     "metadata": {},
     "output_type": "execute_result"
    }
   ],
   "source": [
    "tf.norm(tf.ones((4, 9)))"
   ]
  },
  {
   "cell_type": "markdown",
   "id": "83d26bba-c7b1-4b77-9cff-ba617be1c470",
   "metadata": {},
   "source": [
    "#### 2.3.10.1. 范数和目标\n",
    "在深度学习中，我们经常试图解决优化问题： 最大化分配给观测数据的概率; 最小化预测和真实观测之间的距离。 用向量表示物品（如单词、产品或新闻文章），以便最小化相似项目之间的距离，最大化不同项目之间的距离。 目标，或许是深度学习算法最重要的组成部分（除了数据），通常被表达为范数。"
   ]
  },
  {
   "cell_type": "markdown",
   "id": "3ce44e14-e364-4199-ba90-45678f7c26d8",
   "metadata": {
    "tags": []
   },
   "source": [
    "### 2.3.12. 小结\n",
    "- 标量、向量、矩阵和张量是线性代数中的基本数学对象。\n",
    "\n",
    "- 向量泛化自标量，矩阵泛化自向量。\n",
    "\n",
    "- 标量、向量、矩阵和张量分别具有零、一、二和任意数量的轴。\n",
    "\n",
    "- 一个张量可以通过sum和mean沿指定的轴降低维度。\n",
    "\n",
    "- 两个矩阵的按元素乘法被称为他们的Hadamard积。它与矩阵乘法不同。\n",
    "\n",
    "- 在深度学习中，我们经常使用范数，如 $L_1$范数、$L_2$范数和Frobenius范数。\n",
    "\n",
    "我们可以对标量、向量、矩阵和张量执行各种操作。\n",
    "\n",
    "### 2.3.13. 练习\n",
    "1. 证明一个矩阵$\\mathbf{A}$的转置的转置是$\\mathbf{A}$，即$(\\mathbf{A}^\\top)^\\top = \\mathbf{A}$。\n",
    "\n",
    "2. 给出两个矩阵$\\mathbf{A}$和$\\mathbf{B}$，证明“它们转置的和”等于“它们和的转置”，即$\\mathbf{A}^\\top + \\mathbf{B}^\\top = (\\mathbf{A} + \\mathbf{B})^\\top$。\n",
    "\n",
    "3. 给定任意方阵$\\mathbf{A}$，$\\mathbf{A} + \\mathbf{A}^\\top$总是对称的吗?为什么?\n",
    "\n",
    "4. 本节中定义了形状$(2,3,4)$的张量X。len(X)的输出结果是什么？\n",
    "\n",
    "5. 对于任意形状的张量X,len(X)是否总是对应于X特定轴的长度?这个轴是什么?\n",
    "\n",
    "6. 运行A/A.sum(axis=1)，看看会发生什么。请分析一下原因？\n",
    "\n",
    "7. 考虑一个具有形状$(2,3,4)$的张量，在轴0、1、2上的求和输出是什么形状?\n",
    "\n",
    "8. 为linalg.norm函数提供3个或更多轴的张量，并观察其输出。对于任意形状的张量这个函数计算得到什么?"
   ]
  }
 ],
 "metadata": {
  "kernelspec": {
   "display_name": "Python 3 (ipykernel)",
   "language": "python",
   "name": "python3"
  },
  "language_info": {
   "codemirror_mode": {
    "name": "ipython",
    "version": 3
   },
   "file_extension": ".py",
   "mimetype": "text/x-python",
   "name": "python",
   "nbconvert_exporter": "python",
   "pygments_lexer": "ipython3",
   "version": "3.9.13"
  }
 },
 "nbformat": 4,
 "nbformat_minor": 5
}
